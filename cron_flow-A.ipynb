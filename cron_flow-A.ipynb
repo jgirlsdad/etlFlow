{
 "cells": [
  {
   "cell_type": "code",
   "execution_count": 2,
   "id": "d16a0037-a660-45a2-a282-4d5246df577f",
   "metadata": {},
   "outputs": [],
   "source": [
    "\n",
    "import pandas as pd\n",
    "import plotly.express as px\n",
    "import calendar\n",
    "from datetime import datetime\n",
    "from datetime import timedelta\n",
    "from cronsim import CronSim\n",
    "import argparse\n",
    "import json\n",
    "import PySimpleGUI as sg\n",
    "#import PySimpleGUIWeb as sg"
   ]
  },
  {
   "cell_type": "code",
   "execution_count": null,
   "id": "5760c496-1707-4145-b72d-11174907b43d",
   "metadata": {},
   "outputs": [],
   "source": [
    "crons = []        \n",
    "with open(\"/home/joe/bic_etl/general/cron/cron_file\",\"r\") as fin:\n",
    "    for line in fin:\n",
    "        if line[0:1] != \"#\"  and len(line) > 5:\n",
    "           #print(line0)\n",
    "           print(line)\n",
    "           crons.append(line.rstrip())\n",
    "        line0=line"
   ]
  },
  {
   "cell_type": "code",
   "execution_count": null,
   "id": "bc3bdd56-acba-4694-ba9a-cd84c9974a34",
   "metadata": {},
   "outputs": [],
   "source": [
    "def find_all(a_str, sub):\n",
    "    start = 0\n",
    "    while True:\n",
    "        start = a_str.find(sub, start)\n",
    "        if start == -1: return\n",
    "        yield start\n",
    "        start += len(sub) # use start += 1 to find overlapping matches\n"
   ]
  },
  {
   "cell_type": "code",
   "execution_count": null,
   "id": "520d847c-aa6e-4ee4-97e8-7cf810b00160",
   "metadata": {},
   "outputs": [],
   "source": [
    "parser = argparse.ArgumentParser(description='Argparse Test script')\n",
    "parser.add_argument('-p', help='program')\n",
    "parser.add_argument('-t', help='sub program')\n",
    "parser.add_argument('2', help='??')\n",
    "\n",
    "crons_all = []\n",
    "ncrons=0\n",
    "for line in crons:\n",
    "    line = line.strip(\" \")\n",
    "    spl = line.split(\" \")\n",
    "    crn=\"\"\n",
    "#    print(line)\n",
    "    mm = line.find(\"node\")\n",
    "    nj = line.find(\"java\")\n",
    "    npyth = line.find(\"python\")\n",
    "    nt = line.find(\"-t\")\n",
    "    np = line.find(\"-p\")\n",
    "    if (np > 0):\n",
    "        a = list(find_all(line[np:],'\\\"'))\n",
    "        # if len(a) > 0:\n",
    "        #   p=line[np+a[0]:np+a[1]+1]\n",
    "        # else:\n",
    "        ss = line[np:].split()\n",
    "        p=ss[1]\n",
    "    elif mm > 0:\n",
    "        pp = spl[6].split(\"/\")\n",
    "        p= pp[-1]\n",
    "        print(\"P \",p)\n",
    "    elif nj > 0:  # java line\n",
    "        pp = spl[7].split(\"/\")\n",
    "        p= pp[-1]\n",
    "        print(\"P \",p)\n",
    "    elif npyth > 0:  # java line\n",
    "        pp = spl[10].split(\"/\")\n",
    "        p= pp[-1]\n",
    "        print(\"P \",p)\n",
    "    else:\n",
    "            p=\"\"\n",
    "        \n",
    "    if (nt > 0):\n",
    "        ngt = line.find(\">>\")\n",
    "        a = list(find_all(line[nt:ngt],'\\\"'))\n",
    "        if len(a) > 0:\n",
    "          t=line[nt+a[0]:nt+a[1]+1]\n",
    "        else:\n",
    "          ss = line[nt:].split()\n",
    "          t=ss[1]\n",
    "    else:\n",
    "        t=\"\"\n",
    "            \n",
    "\n",
    "    for val in spl[:5]:\n",
    "        crn+= f\"{val} \"\n",
    "    crn = crn.rstrip()\n",
    "    if spl[5] == \"node\":\n",
    "        pg = spl[6]\n",
    "    else:\n",
    "        pg=\"\"\n",
    "    if len(p) > 0:  #  There is a program listed\n",
    "      \n",
    "        pgs=pg.split(\"/\")\n",
    "       \n",
    "    #    print(line)\n",
    "        mo = 1\n",
    "        \n",
    "        try:\n",
    "            it = CronSim(crn,datetime.strptime(\"2023-01-01\",\"%Y-%m-%d\"))\n",
    "            a = next(it) \n",
    "        \n",
    "            while  a.month == mo:\n",
    "          #      print(a.month,a.day,a.hour,a.minute,a.hour+a.minute/60)\n",
    "          #      print(f\"start:{a}   end:{a+timedelta(days=1)}\")\n",
    "                d = dict(Day=calendar.day_name[a.weekday()],Cron=line,T=t,TM=f\"{a.hour}:{a.minute}\",Task=p,Details=t,Program=pg,Start=a,End=a+timedelta(days=1),Time=a.hour+a.minute/60,Color=li[ncrons])\n",
    "                crons_all.append(d)\n",
    "            # print(f\"pg: {pg} P:{p} T:{t}\")    \n",
    "                a = next(it)\n",
    "            ncrons+=1 \n",
    "        except:\n",
    "            print(\"Count not Process\",crn)\n",
    "            print(line)\n",
    "    else:  # Not a node runnning a cim dataset... must be java or python\n",
    "        print(line)\n",
    "    #  print(\"--------\")\n"
   ]
  },
  {
   "cell_type": "code",
   "execution_count": null,
   "id": "5436b751-b927-4d05-a705-152e36696155",
   "metadata": {},
   "outputs": [],
   "source": [
    "crons_all\n"
   ]
  },
  {
   "cell_type": "code",
   "execution_count": null,
   "id": "77c4124f-f66b-4c2f-8d04-b52125b1dcc6",
   "metadata": {},
   "outputs": [],
   "source": [
    "\n",
    "\n",
    "df = pd.DataFrame(crons_all)\n",
    "df.sort_values(by=\"Time\",inplace=True,ascending=False)\n",
    "fig = px.timeline(df,title=\"BIC Cron Timeline\", x_start=\"Start\", x_end=\"End\", y=\"Task\",height=600,width=1000,hover_data=[\"Task\",\"Day\",\"TM\",\"T\",\"Cron\"],color=\"Task\")\n",
    "fig.update_yaxes(autorange=\"reversed\") # otherwise tasks are listed from the bottom up\n",
    "fig.update_layout(showlegend=False)\n",
    "f2 = fig.full_figure_for_development(warn=False)\n",
    "f2.layout.barmode = 'overlay'\n",
    "f2.show()"
   ]
  },
  {
   "cell_type": "code",
   "execution_count": null,
   "id": "4b909275-fb99-4a1d-ba3c-407835e694de",
   "metadata": {},
   "outputs": [],
   "source": [
    "df = pd.DataFrame(crons_all)\n",
    "df.sort_values(by=\"Time\",inplace=True,ascending=True)\n",
    "fig = px.timeline(df, x_start=\"Start\", x_end=\"End\", y=\"Time\",height=600,width=1000,hover_data=[\"Task\",\"Start\",\"Day\",\"TM\",\"T\"],color=\"Task\")\n",
    "fig.update_yaxes(autorange=\"reversed\") # otherwise tasks are listed from the bottom up\n",
    "fig.update_layout(showlegend=True)\n",
    "f2 = fig.full_figure_for_development(warn=False)\n",
    "f2.layout.barmode = 'overlay'\n",
    "f2.show()"
   ]
  },
  {
   "cell_type": "code",
   "execution_count": null,
   "id": "e5fef1b5-48f2-49e7-b2f6-c9550386c0bb",
   "metadata": {},
   "outputs": [],
   "source": [
    "crn='30 4 1,8,15,22 * *'\n",
    "it = CronSim(crn,datetime.strptime(\"2023-01-01\",\"%Y-%m-%d\"))\n",
    "next(it)"
   ]
  },
  {
   "cell_type": "code",
   "execution_count": null,
   "id": "01d04450-978b-41cd-a400-7305a6f72d46",
   "metadata": {},
   "outputs": [],
   "source": [
    "mo = 1\n",
    "it = CronSim(crn,datetime.strptime(\"2023-01-01\",\"%Y-%m-%d\"))\n",
    "print(it)\n",
    "a = next(it) \n",
    "while  a.month == mo:\n",
    "    print(a.month,a.day,a.hour,a.minute)\n",
    "    a = next(it)\n",
    "    "
   ]
  },
  {
   "cell_type": "code",
   "execution_count": null,
   "id": "b6294341-1eb3-4093-ac17-57e351099f13",
   "metadata": {},
   "outputs": [],
   "source": [
    "\n",
    "\n",
    "df = pd.DataFrame([\n",
    "    dict(Task=\"Job A\", Start='2009-01-01', Finish='2009-02-28',Tm=0),\n",
    "    dict(Task=\"Job A\", Start='2009-03-15', Finish='2009-03-30',Tm=0),\n",
    "    \n",
    "    dict(Task=\"\", Start='2009-03-05', Finish='2009-03-05',Tm=1),\n",
    "    dict(Task=\"Job C\", Start='2009-02-20', Finish='2009-05-30',Tm=1.5),\n",
    "    dict(Task=\"Job D\", Start='2009-02-20', Finish='2009-05-30',Tm=10.)\n",
    "    \n",
    "])\n",
    "\n",
    "fig = px.timeline(df, x_start=\"Start\", x_end=\"Finish\", y=\"Tm\",text=\"Task\")\n",
    "fig.update_yaxes(autorange=\"reversed\") # otherwise tasks are listed from the bottom up\n",
    "fig.show()"
   ]
  },
  {
   "cell_type": "code",
   "execution_count": null,
   "id": "b318fae7-e6b7-4d10-b375-957f29a26f20",
   "metadata": {},
   "outputs": [],
   "source": [
    "s='''\n",
    "    aliceblue, antiquewhite, aqua, aquamarine, azure,\n",
    "    beige, bisque, black, blanchedalmond, blue,\n",
    "    blueviolet, brown, burlywood, cadetblue,\n",
    "    chartreuse, chocolate, coral, cornflowerblue,\n",
    "    cornsilk, crimson, cyan, darkblue, darkcyan,\n",
    "    darkgoldenrod, darkgray, darkgrey, darkgreen,\n",
    "    darkkhaki, darkmagenta, darkolivegreen, darkorange,\n",
    "    darkorchid, darkred, darksalmon, darkseagreen,\n",
    "    darkslateblue, darkslategray, darkslategrey,\n",
    "    darkturquoise, darkviolet, deeppink, deepskyblue,\n",
    "    dimgray, dimgrey, dodgerblue, firebrick,\n",
    "    floralwhite, forestgreen, fuchsia, gainsboro,\n",
    "    ghostwhite, gold, goldenrod, gray, grey, green,\n",
    "    greenyellow, honeydew, hotpink, indianred, indigo,\n",
    "    ivory, khaki, lavender, lavenderblush, lawngreen,\n",
    "    lemonchiffon, lightblue, lightcoral, lightcyan,\n",
    "    lightgoldenrodyellow, lightgray, lightgrey,\n",
    "    lightgreen, lightpink, lightsalmon, lightseagreen,\n",
    "    lightskyblue, lightslategray, lightslategrey,\n",
    "    lightsteelblue, lightyellow, lime, limegreen,\n",
    "    linen, magenta, maroon, mediumaquamarine,\n",
    "    mediumblue, mediumorchid, mediumpurple,\n",
    "    mediumseagreen, mediumslateblue, mediumspringgreen,\n",
    "    mediumturquoise, mediumvioletred, midnightblue,\n",
    "    mintcream, mistyrose, moccasin, navajowhite, navy,\n",
    "    oldlace, olive, olivedrab, orange, orangered,\n",
    "    orchid, palegoldenrod, palegreen, paleturquoise,\n",
    "    palevioletred, papayawhip, peachpuff, peru, pink,\n",
    "    plum, powderblue, purple, red, rosybrown,\n",
    "    royalblue, saddlebrown, salmon, sandybrown,\n",
    "    seagreen, seashell, sienna, silver, skyblue,\n",
    "    slateblue, slategray, slategrey, snow, springgreen,\n",
    "    steelblue, tan, teal, thistle, tomato, turquoise,\n",
    "    violet, wheat, white, whitesmoke, yellow,\n",
    "    yellowgreen\n",
    "    '''\n",
    "li=s.split(',')\n",
    "li=[l.replace('\\n','') for l in li]\n",
    "li=[l.replace(' ','') for l in li]"
   ]
  },
  {
   "cell_type": "code",
   "execution_count": null,
   "id": "864762db-f730-4b43-8b8a-0e461fc28ae0",
   "metadata": {},
   "outputs": [],
   "source": []
  },
  {
   "cell_type": "code",
   "execution_count": null,
   "id": "1beb5c91-7bf7-4405-879f-45d345efbd3e",
   "metadata": {},
   "outputs": [],
   "source": [
    "cdos =  pd.read_json(\"~/bic_etl/cdos/business/business/run_etl.json\")"
   ]
  },
  {
   "cell_type": "code",
   "execution_count": null,
   "id": "9ba4e48b-2592-459e-bacb-2a62e1156be3",
   "metadata": {},
   "outputs": [],
   "source": [
    "cdos.tail()"
   ]
  },
  {
   "cell_type": "code",
   "execution_count": null,
   "id": "a10a9982-2a8f-4424-9be5-d51e824aed67",
   "metadata": {},
   "outputs": [],
   "source": [
    "! ls -l ~/bic_etl/cdos/business/business"
   ]
  },
  {
   "cell_type": "code",
   "execution_count": null,
   "id": "a3114c9c-f185-4c9d-809c-ba699371b3b6",
   "metadata": {},
   "outputs": [],
   "source": [
    "\n",
    "  \n",
    "# Opening JSON file\n",
    "f = open(\"/home/joe/bic_etl/cdos/business/business/run_etl.json\",\"r\")\n",
    "  \n",
    "# returns JSON object as \n",
    "# a dictionary\n",
    "data = json.load(f)\n",
    "  "
   ]
  },
  {
   "cell_type": "code",
   "execution_count": null,
   "id": "702bdbc4-b1ef-40cd-b064-5e5bf70edcbc",
   "metadata": {},
   "outputs": [],
   "source": [
    "for d in data:\n",
    "    print(d['title'])"
   ]
  },
  {
   "cell_type": "code",
   "execution_count": null,
   "id": "25d0dc97-8724-45d4-929c-466f69e47214",
   "metadata": {},
   "outputs": [],
   "source": []
  },
  {
   "cell_type": "code",
   "execution_count": null,
   "id": "77722d20-620c-4ca3-adf1-61f71ba9a59e",
   "metadata": {},
   "outputs": [],
   "source": [
    "mf = pd.read_excel(\"BICDataInventoryandMetadata.xlsx\",skiprows=2,sheet_name=\"Maintenance_Framework\",engine=\"openpyxl\")"
   ]
  },
  {
   "cell_type": "code",
   "execution_count": null,
   "id": "48d6fc3c-0ce0-408c-9513-a56aed80578e",
   "metadata": {},
   "outputs": [],
   "source": [
    "mf.loc[mf[\"\"] == \"usiness Entities in Colorado\",'Socrata Link']"
   ]
  },
  {
   "cell_type": "code",
   "execution_count": null,
   "id": "6a3493af-e80e-4074-b75e-134156647156",
   "metadata": {},
   "outputs": [],
   "source": [
    "mf['Socrata Link'].head()"
   ]
  },
  {
   "cell_type": "code",
   "execution_count": null,
   "id": "58ebcbfc-6018-4300-b209-05dcc1f9adc9",
   "metadata": {},
   "outputs": [],
   "source": [
    "mf.columns"
   ]
  },
  {
   "cell_type": "code",
   "execution_count": null,
   "id": "364b9064-eeb2-46bc-8edf-a2d904462930",
   "metadata": {},
   "outputs": [],
   "source": [
    "mf.head()"
   ]
  },
  {
   "cell_type": "code",
   "execution_count": null,
   "id": "1b424006-fb35-4837-ada0-c4c444038dd2",
   "metadata": {},
   "outputs": [],
   "source": [
    "! pip install openpyxl"
   ]
  },
  {
   "cell_type": "code",
   "execution_count": 24,
   "id": "bbfbc0d1-cb6c-465d-b86c-c73752bf2a45",
   "metadata": {},
   "outputs": [
    {
     "name": "stdout",
     "output_type": "stream",
     "text": [
      "/home/joe/bic_etl/catalog/run_etl.json\n",
      "/home/joe/bic_etl/cdos/health/run_etl.json\n",
      "/home/joe/bic_etl/cdos/government/run_etl.json\n",
      "/home/joe/bic_etl/cdos/business/ucc/run_etl.json\n",
      "/home/joe/bic_etl/cdos/business/business/run_etl.json\n",
      "/home/joe/bic_etl/cdos/business/nonprofit/run_etl.json\n",
      "/home/joe/bic_etl/cdos/lobbyist/run_etl.json\n",
      "/home/joe/bic_etl/cdhe/run_etl.json\n",
      "/home/joe/bic_etl/dpa/run_etl.json\n",
      "/home/joe/bic_etl/tchd/run_etl.json\n",
      "/home/joe/bic_etl/boulder/run_etl.json\n",
      "/home/joe/bic_etl/denver/run_etl.json\n",
      "/home/joe/bic_etl/cdot/transportation_road_attributes/run_etl.json\n",
      "/home/joe/bic_etl/cdot/tops/run_etl.json\n",
      "/home/joe/bic_etl/cdot/natural_resources/run_etl.json\n",
      "/home/joe/bic_etl/cdot/transportation_infrastructure/run_etl.json\n",
      "/home/joe/bic_etl/irs/run_etl.json\n",
      "/home/joe/bic_etl/dola/special_districts/run_etl.json\n",
      "/home/joe/bic_etl/dola/boundaries/run_etl.json\n",
      "/home/joe/bic_etl/dola/demographics/run_etl.json\n",
      "/home/joe/bic_etl/cdor/revenue_marijuana/run_etl.json\n",
      "/home/joe/bic_etl/cdor/retail_reports/run_etl.json\n",
      "/home/joe/bic_etl/cdor/regulations_liquor/run_etl.json\n",
      "/home/joe/bic_etl/ceo/useia/run_etl.json\n",
      "/home/joe/bic_etl/general/example/run_etl.json\n",
      "/home/joe/bic_etl/dora/regulations/run_etl.json\n"
     ]
    }
   ],
   "source": [
    "import pathlib\n",
    "desktop = pathlib.Path(\"/home/joe/bic_etl\")\n",
    "runEtls = []\n",
    "dataSets = []\n",
    "# .rglob() produces a generator too\n",
    "desktop.rglob(\"*\")\n",
    "files = list(desktop.rglob(\"*\"))\n",
    "# Which you can wrap in a list() constructor to materialize\n",
    "for ff in files:\n",
    "    # if ff.find(\"run_etl.json\") >  0:\n",
    "        if (str(ff).split(\"/\")[-1] == \"run_etl.json\"):\n",
    "            print(str(ff))     \n",
    "            runEtls.append(ff)"
   ]
  },
  {
   "cell_type": "code",
   "execution_count": 25,
   "id": "35f66061-e1fb-40c5-96c0-b31897e5f55f",
   "metadata": {},
   "outputs": [],
   "source": [
    "dataSets = []\n",
    "\n",
    "for file in runEtls:\n",
    "  f = open(file,\"r\")\n",
    "  data = json.load(f)\n",
    "  for val in data:\n",
    "        dataSets.append(val)\n",
    "  \n",
    "\n"
   ]
  },
  {
   "cell_type": "code",
   "execution_count": 26,
   "id": "8ca28670-12a7-4c99-aa86-251c5c2cfc46",
   "metadata": {},
   "outputs": [],
   "source": [
    "datasets = []\n",
    "for val in dataSets:\n",
    "    if \"title\" in val:\n",
    "      datasets.append(val[\"title\"][0:50])"
   ]
  },
  {
   "cell_type": "code",
   "execution_count": null,
   "id": "b29f922d-2b08-46c7-a847-ff43fe0014d6",
   "metadata": {},
   "outputs": [],
   "source": [
    "datasets"
   ]
  },
  {
   "cell_type": "code",
   "execution_count": null,
   "id": "53e06f9f-58cd-47d6-a5c2-d7e9fd81ce72",
   "metadata": {},
   "outputs": [],
   "source": [
    "nrecs=0\n",
    "for dat in dataSets:\n",
    "    \n",
    "    if \"title\" in dat:\n",
    "       nrecs+=1 \n",
    "       if mf.loc[mf['Standardized Title for Dataset'].str.strip() == dat[\"title\"].strip(),\"Socrata Link\"].shape[0] > 0:\n",
    "            socrata = mf.loc[mf['Standardized Title for Dataset'].str.strip() == dat[\"title\"].strip(),\"Socrata Link\"].values\n",
    "       else:\n",
    "            socrata = \"\"\n",
    "       if (len(socrata) == 0):\n",
    "         print(nrecs,len(dat[\"title\"]),dat[\"title\"],socrata)\n",
    "       "
   ]
  },
  {
   "cell_type": "code",
   "execution_count": null,
   "id": "8dd3ba9e-5f54-4bdf-934a-ea18af2d8c94",
   "metadata": {},
   "outputs": [],
   "source": [
    "mf = pd.read_excel(\"BICDataInventoryandMetadata.xlsx\",skiprows=2,sheet_name=\"Maintenance_Framework\",engine=\"openpyxl\")"
   ]
  },
  {
   "cell_type": "code",
   "execution_count": null,
   "id": "2a15bfd3-a123-4ab2-b52b-481edf63f623",
   "metadata": {},
   "outputs": [],
   "source": []
  },
  {
   "cell_type": "code",
   "execution_count": null,
   "id": "0366b3cd-793f-4e83-a16a-2ab3dcb4f75f",
   "metadata": {},
   "outputs": [],
   "source": [
    "mf.head(20)"
   ]
  },
  {
   "cell_type": "code",
   "execution_count": null,
   "id": "93920236-9d22-421e-bf85-f1c73b800560",
   "metadata": {},
   "outputs": [],
   "source": [
    "mf.loc[mf[\"Standardized Title for Dataset\"] == \"Manufacturer Temporary Sales Rooms\"]"
   ]
  },
  {
   "cell_type": "code",
   "execution_count": null,
   "id": "2e5836cf-b619-41c3-9795-402cf42f7bda",
   "metadata": {},
   "outputs": [],
   "source": [
    "datasets = list(mf[\"Standardized Title for Dataset\"].values)"
   ]
  },
  {
   "cell_type": "code",
   "execution_count": null,
   "id": "5a005a8c-d241-4c8c-aae7-6351cb8db7fa",
   "metadata": {},
   "outputs": [],
   "source": [
    "for val in datasets:\n",
    "    print(len(val))"
   ]
  },
  {
   "cell_type": "code",
   "execution_count": 21,
   "id": "5ff7623f-a7e1-416d-ba9d-103ea629ed41",
   "metadata": {},
   "outputs": [],
   "source": [
    "datasets = datasets[:50]"
   ]
  },
  {
   "cell_type": "code",
   "execution_count": null,
   "id": "0c2ec4f2-6155-4aac-91e1-ea8cc621a2b3",
   "metadata": {},
   "outputs": [
    {
     "name": "stdout",
     "output_type": "stream",
     "text": [
      "[[<PySimpleGUI.PySimpleGUI.Text object at 0x7f2894366a58>], [<PySimpleGUI.PySimpleGUI.Combo object at 0x7f2894366ac8>], [<PySimpleGUI.PySimpleGUI.Button object at 0x7f2894366b38>]]\n"
     ]
    }
   ],
   "source": [
    "layout = [\n",
    "         [sg.Text(\"BIC Cron DataSets\")],\n",
    "         [sg.Combo(datasets,enable_events=True)],\n",
    "          [sg.Button('Quit')]\n",
    "   ]\n",
    "# Create the Window\n",
    "print(layout)\n",
    "sg.theme('Dark Green 5')\n",
    "window = sg.Window('Output', layout,finalize=True,resizable=True)\n",
    "#window = sg.Window('Window Title', layout, web_port=2222, web_start_browser=False)\n",
    "\n",
    "\n",
    "#window2.move(window.current_location()[0]+600, window.current_location()[1])\n",
    "\n",
    "while True:\n",
    "  \n",
    "    event, values = window.read()\n",
    "    print(values)\n",
    "#    window, event, values = sg.read_all_windows()\n",
    "    if event == sg.WIN_CLOSED or event == 'Quit':\n",
    "        window.close()\n",
    "#        sys.exit(1)\n",
    "        what = \"QUIT\"\n",
    "        break"
   ]
  },
  {
   "cell_type": "code",
   "execution_count": null,
   "id": "2ec279e5-710c-4186-8e34-a05dff754123",
   "metadata": {},
   "outputs": [],
   "source": [
    "datasets"
   ]
  },
  {
   "cell_type": "code",
   "execution_count": null,
   "id": "e7eaae0f-ec76-4fa3-893a-edcbdf55f6c6",
   "metadata": {},
   "outputs": [],
   "source": [
    "import PySimpleGUIWeb as sg\n",
    "\n",
    "layout = [  [sg.Text('My Window')],\n",
    "            [sg.Input(key='-IN-'), sg.Text(size=(12,1), key='-OUT-')],\n",
    "            [sg.Button('Go'), sg.Button('Exit')]  ]\n",
    "\n",
    "window = sg.Window('Window Title', layout, web_port=2222, web_start_browser=False)\n",
    "\n",
    "while True:             # Event Loop\n",
    "    event, values = window.read()\n",
    "    print(event, values)\n",
    "    if event in (None, 'Exit'):\n",
    "        break\n",
    "    if event == 'Go':\n",
    "        window['-OUT-'].Update(values['-IN-'])\n",
    "window.close()"
   ]
  },
  {
   "cell_type": "code",
   "execution_count": null,
   "id": "6b2481c7-fcb2-4095-bdab-9cc79448c087",
   "metadata": {},
   "outputs": [],
   "source": []
  }
 ],
 "metadata": {
  "kernelspec": {
   "display_name": "Python 3",
   "language": "python",
   "name": "python3"
  },
  "language_info": {
   "codemirror_mode": {
    "name": "ipython",
    "version": 3
   },
   "file_extension": ".py",
   "mimetype": "text/x-python",
   "name": "python",
   "nbconvert_exporter": "python",
   "pygments_lexer": "ipython3",
   "version": "3.6.13"
  }
 },
 "nbformat": 4,
 "nbformat_minor": 5
}
