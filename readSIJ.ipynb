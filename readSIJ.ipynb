{
 "cells": [
  {
   "cell_type": "code",
   "execution_count": 5,
   "id": "08674c08-b53f-41d1-936b-d93b1a75f800",
   "metadata": {},
   "outputs": [],
   "source": [
    "import pandas as pd\n",
    "import json"
   ]
  },
  {
   "cell_type": "code",
   "execution_count": 36,
   "id": "c1d201e3-07a1-4ccb-93bd-5929724ace9d",
   "metadata": {},
   "outputs": [],
   "source": [
    "#fin = open(\"/home/joe/bic_etl/cdos/lobbyist/scripts/datasync/subcontractor.sij\",\"r\")\n",
    "fin = open(\"/home/joe/subcon.sij\",\"r\")\n",
    "\n",
    "out = json.load(fin)"
   ]
  },
  {
   "cell_type": "code",
   "execution_count": 37,
   "id": "3841f993-e3c1-455d-b240-74d7d8470f71",
   "metadata": {},
   "outputs": [
    {
     "data": {
      "text/plain": [
       "dict"
      ]
     },
     "execution_count": 37,
     "metadata": {},
     "output_type": "execute_result"
    }
   ],
   "source": [
    "type(out)"
   ]
  },
  {
   "cell_type": "code",
   "execution_count": 38,
   "id": "554a6ef2-634f-4bd3-b951-282058e3da3d",
   "metadata": {},
   "outputs": [
    {
     "name": "stdout",
     "output_type": "stream",
     "text": [
      "defaultJobName\n",
      "Unsaved Standard Job (1)\n",
      "------------------------\n",
      "datasetID\n",
      "gcmk-9nwy\n",
      "------------------------\n",
      "fileToPublish\n",
      "/home/joe/bic_etl/cdos/lobbyist/data_source/Sub-Contractor.tsv\n",
      "------------------------\n",
      "publishMethod\n",
      "replace\n",
      "------------------------\n",
      "fileToPublishHasHeaderRow\n",
      "True\n",
      "------------------------\n",
      "controlFileContent\n",
      "{\n",
      "  \"action\" : \"Replace\",\n",
      "  \"tsv\" : {\n",
      "    \"columnStatistics\" : true,\n",
      "    \"columns\" : [ \"lobbyistlastname\", \"lobbyistfirstname\", \"lobbyistaddress1\", \"lobbyistaddress2\", \"lobbyistcity\", \"lobbyiststate\", \"lobbyistzip\", \"primarylobbyistid\", \"annuallobbyistregistrationid\", \"subcontractorsource\", \"subcontractoraddressline1\", \"subcontractoraddressline2\", \"subcontractorcity\", \"subcontractorstate\", \"subcontractorzip\", \"incomeamountreceived\", \"amountpaidtosubcontractor\", \"incomereceiptdate\", \"subcontractorlastname\", \"subcontractorfirstname\", \"reportmonth\", \"fiscalyear\", \"reportduedate\" ],\n",
      "    \"emptyTextIsNull\" : true,\n",
      "    \"encoding\" : \"utf-8\",\n",
      "    \"fixedTimestampFormat\" : [ \"ISO8601\", \"MM/dd/yy\", \"MM/dd/yyyy\", \"dd-MMM-yyyy\", \"MM/dd/yyyy hh:mm:ss a Z\", \"MM/dd/yyyy hh:mm:ss a\" ],\n",
      "    \"floatingTimestampFormat\" : [ \"ISO8601\", \"MM/dd/yy\", \"MM/dd/yyyy\", \"dd-MMM-yyyy\", \"MM/dd/yyyy hh:mm:ss a Z\", \"MM/dd/yyyy hh:mm:ss a\" ],\n",
      "    \"ignoreColumns\" : [ ],\n",
      "    \"overrides\" : { },\n",
      "    \"quote\" : \"\\u0000\",\n",
      "    \"separator\" : \"\\t\",\n",
      "    \"setAsideErrors\" : false,\n",
      "    \"skip\" : 1,\n",
      "    \"timezone\" : \"UTC\",\n",
      "    \"trimServerWhitespace\" : false,\n",
      "    \"trimWhitespace\" : true,\n",
      "    \"useSocrataGeocoding\" : false\n",
      "  }\n",
      "}\n",
      "------------------------\n",
      "publishViaFTP\n",
      "False\n",
      "------------------------\n",
      "publishViaDi2Http\n",
      "True\n",
      "------------------------\n",
      "fileVersionUID\n",
      "4\n",
      "------------------------\n",
      "pathToSavedFile\n",
      "/home/joe/subcon.sij\n",
      "------------------------\n",
      "jobFilename\n",
      "subcon.sij\n",
      "------------------------\n",
      "ftpControlFileContent\n",
      "{\n",
      "  \"action\" : \"Replace\",\n",
      "  \"tsv\" : {\n",
      "    \"columnStatistics\" : true,\n",
      "    \"columns\" : [ \"lobbyistlastname\", \"lobbyistfirstname\", \"lobbyistaddress1\", \"lobbyistaddress2\", \"lobbyistcity\", \"lobbyiststate\", \"lobbyistzip\", \"primarylobbyistid\", \"annuallobbyistregistrationid\", \"subcontractorsource\", \"subcontractoraddressline1\", \"subcontractoraddressline2\", \"subcontractorcity\", \"subcontractorstate\", \"subcontractorzip\", \"incomeamountreceived\", \"amountpaidtosubcontractor\", \"incomereceiptdate\", \"subcontractorlastname\", \"subcontractorfirstname\", \"reportmonth\", \"fiscalyear\", \"reportduedate\" ],\n",
      "    \"emptyTextIsNull\" : true,\n",
      "    \"encoding\" : \"utf-8\",\n",
      "    \"fixedTimestampFormat\" : [ \"ISO8601\", \"MM/dd/yy\", \"MM/dd/yyyy\", \"dd-MMM-yyyy\", \"MM/dd/yyyy hh:mm:ss a Z\", \"MM/dd/yyyy hh:mm:ss a\" ],\n",
      "    \"floatingTimestampFormat\" : [ \"ISO8601\", \"MM/dd/yy\", \"MM/dd/yyyy\", \"dd-MMM-yyyy\", \"MM/dd/yyyy hh:mm:ss a Z\", \"MM/dd/yyyy hh:mm:ss a\" ],\n",
      "    \"ignoreColumns\" : [ ],\n",
      "    \"overrides\" : { },\n",
      "    \"quote\" : \"\\u0000\",\n",
      "    \"separator\" : \"\\t\",\n",
      "    \"setAsideErrors\" : false,\n",
      "    \"skip\" : 1,\n",
      "    \"timezone\" : \"UTC\",\n",
      "    \"trimServerWhitespace\" : false,\n",
      "    \"trimWhitespace\" : true,\n",
      "    \"useSocrataGeocoding\" : false\n",
      "  }\n",
      "}\n",
      "------------------------\n"
     ]
    }
   ],
   "source": [
    "for k1,v1 in out.items():\n",
    "    print(k1)\n",
    "    print(v1)\n",
    "    print(\"------------------------\")"
   ]
  },
  {
   "cell_type": "code",
   "execution_count": 39,
   "id": "fa381a58-4945-4729-a578-40573f83743d",
   "metadata": {},
   "outputs": [],
   "source": [
    "cf = json.loads(out[\"controlFileContent\"])"
   ]
  },
  {
   "cell_type": "code",
   "execution_count": 24,
   "id": "be216965-30e7-4237-9eea-9b2e491824c4",
   "metadata": {},
   "outputs": [
    {
     "data": {
      "text/plain": [
       "dict_keys(['columnStatistics', 'columns', 'emptyTextIsNull', 'encoding', 'fixedTimestampFormat', 'floatingTimestampFormat', 'ignoreColumns', 'overrides', 'quote', 'separator', 'skip', 'timezone', 'trimServerWhitespace', 'trimWhitespace', 'useSocrataGeocoding'])"
      ]
     },
     "execution_count": 24,
     "metadata": {},
     "output_type": "execute_result"
    }
   ],
   "source": [
    "cf[\"tsv\"].keys()"
   ]
  },
  {
   "cell_type": "code",
   "execution_count": 26,
   "id": "03496b37-a312-4f59-8e66-2bf5930a5d21",
   "metadata": {},
   "outputs": [
    {
     "data": {
      "text/plain": [
       "['lobbyistlastname',\n",
       " 'lobbyistfirstname',\n",
       " 'lobbyistaddress1',\n",
       " 'lobbyistaddress2',\n",
       " 'lobbyistcity',\n",
       " 'lobbyiststate',\n",
       " 'lobbyistzip',\n",
       " 'primarylobbyistid',\n",
       " 'annuallobbyistregistrationid',\n",
       " 'subcontractorsource',\n",
       " 'subcontractoraddressline1',\n",
       " 'subcontractoraddressline2',\n",
       " 'subcontractorcity',\n",
       " 'subcontractorstate',\n",
       " 'subcontractorzip',\n",
       " 'incomeamountreceived',\n",
       " 'amountpaidtosubcontractor',\n",
       " 'incomereceiptdate',\n",
       " 'subcontractorlastname',\n",
       " 'subcontractorfirstname',\n",
       " 'reportmonth',\n",
       " 'fiscalyear',\n",
       " 'reportduedate']"
      ]
     },
     "execution_count": 26,
     "metadata": {},
     "output_type": "execute_result"
    }
   ],
   "source": [
    "cf[\"tsv\"][\"columns\"]"
   ]
  },
  {
   "cell_type": "code",
   "execution_count": 40,
   "id": "363fb415-35c3-4059-a473-05a5590ac15c",
   "metadata": {},
   "outputs": [],
   "source": [
    "ftp = json.loads(out[\"ftpControlFileContent\"])"
   ]
  },
  {
   "cell_type": "code",
   "execution_count": 31,
   "id": "c40c8d28-8899-4645-ab1e-1a2cc0344271",
   "metadata": {},
   "outputs": [
    {
     "data": {
      "text/plain": [
       "dict_keys(['columnStatistics', 'columns', 'emptyTextIsNull', 'encoding', 'fixedTimestampFormat', 'floatingTimestampFormat', 'ignoreColumns', 'overrides', 'quote', 'separator', 'skip', 'timezone', 'trimServerWhitespace', 'trimWhitespace', 'useSocrataGeocoding'])"
      ]
     },
     "execution_count": 31,
     "metadata": {},
     "output_type": "execute_result"
    }
   ],
   "source": [
    "ftp[\"tsv\"].keys()"
   ]
  },
  {
   "cell_type": "code",
   "execution_count": 32,
   "id": "e89ae11b-569c-44d2-9be0-3f34fc65d00c",
   "metadata": {},
   "outputs": [
    {
     "data": {
      "text/plain": [
       "['lobbyistlastname',\n",
       " 'lobbyistfirstname',\n",
       " 'lobbyistaddress1',\n",
       " 'lobbyistaddress2',\n",
       " 'lobbyistcity',\n",
       " 'lobbyiststate',\n",
       " 'lobbyistzip',\n",
       " 'primarylobbyistid',\n",
       " 'annuallobbyistregistrationid',\n",
       " 'subcontractorsource',\n",
       " 'subcontractoraddressline1',\n",
       " 'subcontractoraddressline2',\n",
       " 'subcontractorcity',\n",
       " 'subcontractorstate',\n",
       " 'subcontractorzip',\n",
       " 'incomeamountreceived',\n",
       " 'amountpaidtosubcontractor',\n",
       " 'incomereceiptdate',\n",
       " 'subcontractorlastname',\n",
       " 'subcontractorfirstname',\n",
       " 'reportmonth',\n",
       " 'fiscalyear',\n",
       " 'reportduedate']"
      ]
     },
     "execution_count": 32,
     "metadata": {},
     "output_type": "execute_result"
    }
   ],
   "source": [
    "ftp[\"tsv\"][\"columns\"]"
   ]
  },
  {
   "cell_type": "code",
   "execution_count": 41,
   "id": "01c648ff-1d95-47f8-a55b-b57426d1691d",
   "metadata": {},
   "outputs": [
    {
     "name": "stdout",
     "output_type": "stream",
     "text": [
      "0 lobbyistlastname lobbyistlastname\n",
      "1 lobbyistfirstname lobbyistfirstname\n",
      "2 lobbyistaddress1 lobbyistaddress1\n",
      "3 lobbyistaddress2 lobbyistaddress2\n",
      "4 lobbyistcity lobbyistcity\n",
      "5 lobbyiststate lobbyiststate\n",
      "6 lobbyistzip lobbyistzip\n",
      "7 primarylobbyistid primarylobbyistid\n",
      "8 annuallobbyistregistrationid annuallobbyistregistrationid\n",
      "9 subcontractorsource subcontractorsource\n",
      "10 subcontractoraddressline1 subcontractoraddressline1\n",
      "11 subcontractoraddressline2 subcontractoraddressline2\n",
      "12 subcontractorcity subcontractorcity\n",
      "13 subcontractorstate subcontractorstate\n",
      "14 subcontractorzip subcontractorzip\n",
      "15 incomeamountreceived incomeamountreceived\n",
      "16 amountpaidtosubcontractor amountpaidtosubcontractor\n",
      "17 incomereceiptdate incomereceiptdate\n",
      "18 subcontractorlastname subcontractorlastname\n",
      "19 subcontractorfirstname subcontractorfirstname\n",
      "20 reportmonth reportmonth\n",
      "21 fiscalyear fiscalyear\n",
      "22 reportduedate reportduedate\n"
     ]
    }
   ],
   "source": [
    "for nn in range(len(ftp[\"tsv\"][\"columns\"])):\n",
    "    print(nn,cf[\"tsv\"][\"columns\"][nn],ftp[\"tsv\"][\"columns\"][nn])"
   ]
  },
  {
   "cell_type": "code",
   "execution_count": null,
   "id": "a8cfd886-78c8-4e50-8d2b-6320e01921f2",
   "metadata": {},
   "outputs": [],
   "source": []
  }
 ],
 "metadata": {
  "kernelspec": {
   "display_name": "fileCompare",
   "language": "python",
   "name": "filecompare"
  },
  "language_info": {
   "codemirror_mode": {
    "name": "ipython",
    "version": 3
   },
   "file_extension": ".py",
   "mimetype": "text/x-python",
   "name": "python",
   "nbconvert_exporter": "python",
   "pygments_lexer": "ipython3",
   "version": "3.10.12"
  }
 },
 "nbformat": 4,
 "nbformat_minor": 5
}
